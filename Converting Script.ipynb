{
 "cells": [
  {
   "cell_type": "code",
   "execution_count": 73,
   "metadata": {},
   "outputs": [],
   "source": [
    "#importing libraries\n",
    "import pandas as pd\n",
    "import xml.etree.ElementTree as xet"
   ]
  },
  {
   "cell_type": "code",
   "execution_count": 113,
   "metadata": {},
   "outputs": [],
   "source": []
  },
  {
   "cell_type": "code",
   "execution_count": 120,
   "metadata": {},
   "outputs": [],
   "source": [
    "doc = xet.parse('q2.xml')\n",
    "root = doc.getroot()\n",
    "# print(root.tag)"
   ]
  },
  {
   "cell_type": "code",
   "execution_count": 121,
   "metadata": {},
   "outputs": [],
   "source": [
    "# for i in root.findall('mc-problem'):\n",
    "#     q = i.find('question')\n",
    "#     t = q.find('text')\n",
    "#     print(t.text)\n",
    "    "
   ]
  },
  {
   "cell_type": "code",
   "execution_count": null,
   "metadata": {},
   "outputs": [],
   "source": []
  },
  {
   "cell_type": "code",
   "execution_count": 125,
   "metadata": {},
   "outputs": [],
   "source": [
    "cols = ['Question Type', 'Question', 'Answer', 'Distractor1', 'Distractor2', 'Distractor3']\n",
    "rows = []\n",
    "\n",
    "doc = xet.parse('q2.xml')\n",
    "root = doc.getroot()\n",
    "\n",
    "elementList = []\n",
    "for x in root:\n",
    "    elementList.append(x.tag)\n",
    "number = elementList.count('mc-problem')\n",
    "\n",
    "for i in root:\n",
    "    if i.tag == 'mc-problem':\n",
    "            #Question\n",
    "            q = i.find('question')\n",
    "            t = q.find('text')\n",
    "            ques = t.text\n",
    "#             print(t.text)\n",
    "            \n",
    "            answers = i.find('answers')\n",
    "        \n",
    "            cor_ans = answers.find('answer-correct')\n",
    "            answer = cor_ans.find('answer')\n",
    "            ans_val = answer.find('text').text\n",
    "#             print(ans_val.text)\n",
    "            \n",
    "            distractors = []\n",
    "            for j in answers.findall('answer-incorrect'):\n",
    "                \n",
    "                qe = j.find('answer')\n",
    "                an = qe.find('text').text\n",
    "                distractors.append(an)\n",
    "#                 print(an.text)\n",
    "            \n",
    "            rows.append({\n",
    "                'Question Type': \"MULTIPLE CHOICE\",\n",
    "                'Question': ques,\n",
    "                'Answer': ans_val,\n",
    "                'Distractor1': distractors[0],\n",
    "                'Distractor2': distractors[1],\n",
    "                'Distractor3': distractors[2]\n",
    "                \n",
    "            })\n",
    "\n",
    "df = pd.DataFrame(rows, columns= cols)\n",
    "df.to_csv('out3.csv', index= False)\n",
    "    "
   ]
  },
  {
   "cell_type": "code",
   "execution_count": 117,
   "metadata": {},
   "outputs": [],
   "source": []
  },
  {
   "cell_type": "code",
   "execution_count": 118,
   "metadata": {},
   "outputs": [],
   "source": []
  },
  {
   "cell_type": "code",
   "execution_count": null,
   "metadata": {},
   "outputs": [],
   "source": []
  }
 ],
 "metadata": {
  "kernelspec": {
   "display_name": "Python 3",
   "language": "python",
   "name": "python3"
  },
  "language_info": {
   "codemirror_mode": {
    "name": "ipython",
    "version": 3
   },
   "file_extension": ".py",
   "mimetype": "text/x-python",
   "name": "python",
   "nbconvert_exporter": "python",
   "pygments_lexer": "ipython3",
   "version": "3.8.3"
  }
 },
 "nbformat": 4,
 "nbformat_minor": 4
}
