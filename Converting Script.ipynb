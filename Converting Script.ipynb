{
 "cells": [
  {
   "cell_type": "code",
   "execution_count": 14,
   "metadata": {},
   "outputs": [],
   "source": [
    "#importing libraries\n",
    "import pandas as pd\n",
    "import xml.etree.ElementTree as xet"
   ]
  },
  {
   "cell_type": "code",
   "execution_count": 15,
   "metadata": {},
   "outputs": [],
   "source": [
    "removing_phrases = ['<?xml version=\"1.0\" ?>\\n', '<!DOCTYPE cwml>\\n', '<cwml version=\"1.5\" xml:base=\"http://www.pearsoned.com/2000/wps\" xml:lang=\"en-US\" xmlns=\"http://www.pearsoned.com/2004/xmlns/cwml/1.5\" xmlns:xlink=\"http://www.w3.org/1999/xlink\">\\n', '</cwml>\\n']\n",
    "with open(\"15.xml\", \"r+\") as f:\n",
    "    d = f.readlines()\n",
    "    f.truncate(0)\n",
    "    f.close()   "
   ]
  },
  {
   "cell_type": "code",
   "execution_count": 16,
   "metadata": {},
   "outputs": [],
   "source": [
    "with open('15.xml', 'w') as f:\n",
    "    f.write('<cwml>\\n')\n",
    "    for item in d:\n",
    "        if item not in removing_phrases:\n",
    "            f.write(\"%s\\n\" % item)\n",
    "    f.write('</cwml>\\n')"
   ]
  },
  {
   "cell_type": "code",
   "execution_count": 19,
   "metadata": {},
   "outputs": [
    {
     "name": "stdout",
     "output_type": "stream",
     "text": [
      "cwml\n"
     ]
    }
   ],
   "source": [
    "doc = xet.parse('15.xml')\n",
    "root = doc.getroot()\n",
    "print(root.tag)"
   ]
  },
  {
   "cell_type": "code",
   "execution_count": 121,
   "metadata": {},
   "outputs": [],
   "source": [
    "# for i in root.findall('mc-problem'):\n",
    "#     q = i.find('question')\n",
    "#     t = q.find('text')\n",
    "#     print(t.text)\n",
    "    "
   ]
  },
  {
   "cell_type": "code",
   "execution_count": null,
   "metadata": {},
   "outputs": [],
   "source": []
  },
  {
   "cell_type": "code",
   "execution_count": 20,
   "metadata": {},
   "outputs": [],
   "source": [
    "cols = ['Question Type', 'Question', 'Answer', 'Distractor 1', 'Distractor 2', 'Distractor 3']\n",
    "rows = []\n",
    "\n",
    "doc = xet.parse('15.xml')\n",
    "root = doc.getroot()\n",
    "\n",
    "elementList = []\n",
    "for x in root:\n",
    "    elementList.append(x.tag)\n",
    "number = elementList.count('mc-problem')\n",
    "\n",
    "for i in root:\n",
    "    if i.tag == 'mc-problem':\n",
    "            #Question\n",
    "            q = i.find('question')\n",
    "            t = q.find('text')\n",
    "            ques = t.text\n",
    "#             print(t.text)\n",
    "            \n",
    "            answers = i.find('answers')\n",
    "        \n",
    "            cor_ans = answers.find('answer-correct')\n",
    "            answer = cor_ans.find('answer')\n",
    "            ans_val = answer.find('text').text\n",
    "#             print(ans_val.text)\n",
    "            \n",
    "            distractors = []\n",
    "            for j in answers.findall('answer-incorrect'):\n",
    "                \n",
    "                qe = j.find('answer')\n",
    "                an = qe.find('text').text\n",
    "                distractors.append(an)\n",
    "#                 print(an.text)\n",
    "            \n",
    "            rows.append({\n",
    "                'Question Type': \"MULTIPLE CHOICE\",\n",
    "                'Question': ques,\n",
    "                'Answer': ans_val,\n",
    "                'Distractor1': distractors[0],\n",
    "                'Distractor2': distractors[1],\n",
    "                'Distractor3': distractors[2]\n",
    "                \n",
    "            })\n",
    "\n",
    "df = pd.DataFrame(rows, columns= cols)\n",
    "df.to_csv('out3.csv', index= False)\n",
    "    "
   ]
  },
  {
   "cell_type": "code",
   "execution_count": 117,
   "metadata": {},
   "outputs": [],
   "source": []
  },
  {
   "cell_type": "code",
   "execution_count": 127,
   "metadata": {},
   "outputs": [
    {
     "data": {
      "text/plain": [
       "'<?xml version=\"1.0\" ?>\\n<!DOCTYPE cwml>\\n<cwml version=\"1.5\" xml:base=\"http://www.pearsoned.com/2000/wps\" xml:lang=\"en-US\" xmlns=\"http://www.pearsoned.com/2004/xmlns/cwml/1.5\" xmlns:xlink=\"http://www.w3.org/1999/xlink\">\\n  <problemset display-mode=\"all\" randomize-answer-order=\"yes\">\\n    <title>\\n      <text><![CDATA[Chapter 15 Test Questions]]></text>\\n    </title>\\n    \\n    <timer actuate=\"no\">\\n      <target-time hours=\"00\" minutes=\"00\" seconds=\"00\" />\\n      <max-time hours=\"00\" minutes=\"00\" seconds=\"00\" />\\n    </timer>\\n    <block>\\n      <text><![CDATA[]]></text>\\n    </block>\\n  </problemset>\\n</cwml>\\n<?xml version=\"1.0\" ?>\\n<!DOCTYPE cwml>\\n<cwml version=\"1.5\" xml:base=\"http://www.pearsoned.com/2000/wps\" xml:lang=\"en-US\" xmlns=\"http://www.pearsoned.com/2004/xmlns/cwml/1.5\" xmlns:xlink=\"http://www.w3.org/1999/xlink\">\\n  <mc-problem>\\n    <question>\\n      <text><![CDATA[Which of the following statements about special senses is correct?]]></text>\\n    </question>\\n    <answers>\\n      <answer-correct allow-randomization=\"yes\">\\n        <answer>\\n          <text><![CDATA[All special senses, except smell, rely on specialized receptor cells to detect stimuli.]]></text>\\n        </answer>\\n        <explanation>\\n          <text><![CDATA[Olfaction is the only special sense in which the receptor cells are neurons, and in this case, they are specialized to detect different odors.]]></text>\\n        </explanation>\\n      </answer-correct>\\n      <answer-incorrect allow-randomization=\"yes\">\\n        <answer>\\n          <text><![CDATA[Special sense input is carried by both spinal and cranial neurons.]]></text>\\n        </answer>\\n        <explanation>\\n          <text><![CDATA[Special sense input is carried by cranial nerves only; the special sense organs are all housed in the head.]]></text>\\n        </explanation>\\n      </answer-incorrect>\\n      <answer-incorrect allow-randomization=\"yes\">\\n        <answer>\\n          <text><![CDATA[Special sense stimuli are detected by the receptive endings of sensory neurons.]]></text>\\n        </answer>\\n        <explanation>\\n          <text><![CDATA[Most special senses rely on receptors that are not neurons but instead are specialized cells that detect specific types of stimuli.]]></text>\\n        </explanation>\\n      </answer-incorrect>\\n      <answer-incorrect allow-randomization=\"yes\">\\n        <answer>\\n          <text><![CDATA[Special senses detect stimuli such as touch, pain, and temperature.]]></text>\\n        </answer>\\n        <explanation>\\n          <text><![CDATA[Those stimuli are detected by the general senses, not the special senses.]]></text>\\n        </explanation>\\n      </answer-incorrect>\\n    </answers>\\n  </mc-problem>\\n</cwml>\\n<?xml version=\"1.0\" ?>\\n<!DOCTYPE cwml>\\n<cwml version=\"1.5\" xml:base=\"http://www.pearsoned.com/2000/wps\" xml:lang=\"en-US\" xmlns=\"http://www.pearsoned.com/2004/xmlns/cwml/1.5\" xmlns:xlink=\"http://www.w3.org/1999/xlink\">\\n  <mc-problem>\\n    \\n    <question>\\n      <text><![CDATA[In olfaction, activation of G-protein-coupled receptors leads to the formation of __________.]]></text>\\n    </question>\\n    <answers>\\n      <answer-correct allow-randomization=\"yes\">\\n        <answer>\\n          <text><![CDATA[cyclic AMP]]></text>\\n        </answer>\\n        <explanation>\\n          <text><![CDATA[The activated G-protein triggers the enzyme adenylate cyclase to convert ATP into cyclic AMP (cAMP).]]></text>\\n        </explanation>\\n      </answer-correct>\\n      <answer-incorrect allow-randomization=\"yes\">\\n        <answer>\\n          <text><![CDATA[ATP]]></text>\\n        </answer>\\n        <explanation>\\n          <text><![CDATA[When G-proteins activate the enzyme adenylate cyclase, it converts ATP into another molecule. Therefore, ATP is not formed but is used as a precursor.]]></text>\\n        </explanation>\\n      </answer-incorrect>\\n      <answer-incorrect allow-randomization=\"yes\">\\n        <answer>\\n          <text><![CDATA[Na and Ca ions]]></text>\\n        </answer>\\n        <explanation>\\n          <text><![CDATA[Activation of G-protein-coupled receptors leads to Na and Ca ion influx into the neuron via ion channels but not the formation of Na and Ca ions.]]></text>\\n        </explanation>\\n      </answer-incorrect>\\n      <answer-incorrect allow-randomization=\"yes\">\\n        <answer>\\n          <text><![CDATA[odorants]]></text>\\n        </answer>\\n        <explanation>\\n          <text><![CDATA[Odorants are the chemicals that are detected by the G-protein-coupled olfactory receptors and activate them.]]></text>\\n        </explanation>\\n      </answer-incorrect>\\n    </answers>\\n  </mc-problem>\\n</cwml>\\n<?xml version=\"1.0\" ?>\\n<!DOCTYPE cwml>\\n<cwml version=\"1.5\" xml:base=\"http://www.pearsoned.com/2000/wps\" xml:lang=\"en-US\" xmlns=\"http://www.pearsoned.com/2004/xmlns/cwml/1.5\" xmlns:xlink=\"http://www.w3.org/1999/xlink\">\\n  <mc-problem>\\n    \\n    <question>\\n      <text><![CDATA[Specialized epithelial cells that contain receptors to detect taste are called __________.]]></text>\\n    </question>\\n    <answers>\\n      <answer-correct allow-randomization=\"yes\">\\n        <answer>\\n          <text><![CDATA[gustatory cells]]></text>\\n        </answer>\\n        <explanation>\\n          <text><![CDATA[Gustatory cells<b> </b>have microvilli with receptors for taste on their apical surface. The basal end of\\neach gustatory cell forms a synapse with the receptive endings of a sensory neuron.]]></text>\\n        </explanation>\\n      </answer-correct>\\n      <answer-incorrect allow-randomization=\"yes\">\\n        <answer>\\n          <text><![CDATA[vallate papillae]]></text>\\n        </answer>\\n        <explanation>\\n          <text><![CDATA[Papillae are rounded projections on the surface of the tongue, which contain taste buds. They are not specialized epithelial cells.]]></text>\\n        </explanation>\\n      </answer-incorrect>\\n      <answer-incorrect allow-randomization=\"yes\">\\n        <answer>\\n          <text><![CDATA[supporting cells]]></text>\\n        </answer>\\n        <explanation>\\n          <text><![CDATA[Supporting cells provide physical support for the cells that detect taste, but they have no role in sensation.]]></text>\\n        </explanation>\\n      </answer-incorrect>\\n      <answer-incorrect allow-randomization=\"yes\">\\n        <answer>\\n          <text><![CDATA[taste buds]]></text>\\n        </answer>\\n        <explanation>\\n          <text><![CDATA[Taste buds are not cells but small clusters of receptor cells and supporting cells scattered across the tongue and parts of the oral cavity.]]></text>\\n        </explanation>\\n      </answer-incorrect>\\n    </answers>\\n  </mc-problem>\\n</cwml>\\n<?xml version=\"1.0\" ?>\\n<!DOCTYPE cwml>\\n<cwml version=\"1.5\" xml:base=\"http://www.pearsoned.com/2000/wps\" xml:lang=\"en-US\" xmlns=\"http://www.pearsoned.com/2004/xmlns/cwml/1.5\" xmlns:xlink=\"http://www.w3.org/1999/xlink\">\\n  <mc-problem>\\n    \\n    <question>\\n      <text><![CDATA[Which of the following disorders might result in an inability to sense taste from the anterior two-thirds of the tongue?]]></text>\\n    </question>\\n    <answers>\\n      <answer-correct allow-randomization=\"yes\">\\n        <answer>\\n          <text><![CDATA[facial nerve palsy]]></text>\\n        </answer>\\n        <explanation>\\n          <text><![CDATA[Paralysis of the facial nerve might result in abnormal or reduced taste sensation, because the facial nerve carries taste sensations from the anterior two-thirds of the tongue.]]></text>\\n        </explanation>\\n      </answer-correct>\\n      <answer-incorrect allow-randomization=\"yes\">\\n        <answer>\\n          <text><![CDATA[trochlear nerve injury]]></text>\\n        </answer>\\n        <explanation>\\n          <text><![CDATA[Trochlear nerve injury will impair vision, not taste.]]></text>\\n        </explanation>\\n      </answer-incorrect>\\n      <answer-incorrect allow-randomization=\"yes\">\\n        <answer>\\n          <text><![CDATA[trigeminal neuropathy]]></text>\\n        </answer>\\n        <explanation>\\n          <text><![CDATA[Trigeminal nerve dysfunction will lead to severe, stabbing pain in the face but will not impair the transduction of taste.]]></text>\\n        </explanation>\\n      </answer-incorrect>\\n      <answer-incorrect allow-randomization=\"yes\">\\n        <answer>\\n          <text><![CDATA[hypoglossal nerve injury]]></text>\\n        </answer>\\n        <explanation>\\n          <text><![CDATA[Injury to the hypoglossal nerve will impair swallowing and problems with controlling tongue movement and speech. The hypoglossal nerve is not sensory for taste.]]></text>\\n        </explanation>\\n      </answer-incorrect>\\n    </answers>\\n  </mc-problem>\\n</cwml>\\n<?xml version=\"1.0\" ?>\\n<!DOCTYPE cwml>\\n<cwml version=\"1.5\" xml:base=\"http://www.pearsoned.com/2000/wps\" xml:lang=\"en-US\" xmlns=\"http://www.pearsoned.com/2004/xmlns/cwml/1.5\" xmlns:xlink=\"http://www.w3.org/1999/xlink\">\\n  <mc-problem>\\n    \\n    <question>\\n      <text><![CDATA[Which of the extrinsic eye muscles passes through the trochlea?]]></text>\\n    </question>\\n    <answers>\\n      <answer-correct allow-randomization=\"yes\">\\n        <answer>\\n          <text><![CDATA[superior oblique muscle]]></text>\\n        </answer>\\n        <explanation>\\n          <text><![CDATA[The superior oblique muscle travels from the posterior orbit along the medial wall and through a fibrous loop called the trochlea before inserting on the superolateral part of the eyeball.]]></text>\\n        </explanation>\\n      </answer-correct>\\n      <answer-incorrect allow-randomization=\"yes\">\\n        <answer>\\n          <text><![CDATA[medial rectus muscle]]></text>\\n        </answer>\\n        <explanation>\\n          <text><![CDATA[The medial rectus muscle extends from a common tendinous ring on the posterior wall of the orbit to insert in the medial surface of the eyeball. ]]></text>\\n        </explanation>\\n      </answer-incorrect>\\n      <answer-incorrect allow-randomization=\"yes\">\\n        <answer>\\n          <text><![CDATA[lateral rectus muscle]]></text>\\n        </answer>\\n        <explanation>\\n          <text><![CDATA[The lateral rectus muscle extends from a common tendinous ring on the posterior wall of the orbit to insert in the lateral surface of the eyeball.]]></text>\\n        </explanation>\\n      </answer-incorrect>\\n      <answer-incorrect allow-randomization=\"yes\">\\n        <answer>\\n          <text><![CDATA[inferior oblique muscle]]></text>\\n        </answer>\\n        <explanation>\\n          <text><![CDATA[The inferior oblique muscle originates from the medial floor of the orbit to insert on the inferolateral part of the eyeball.]]></text>\\n        </explanation>\\n      </answer-incorrect>\\n    </answers>\\n  </mc-problem>\\n</cwml>\\n<?xml version=\"1.0\" ?>\\n<!DOCTYPE cwml>\\n<cwml version=\"1.5\" xml:base=\"http://www.pearsoned.com/2000/wps\" xml:lang=\"en-US\" xmlns=\"http://www.pearsoned.com/2004/xmlns/cwml/1.5\" xmlns:xlink=\"http://www.w3.org/1999/xlink\">\\n  <mc-problem>\\n    \\n    <question>\\n      <text><![CDATA[The area of the retina that contains a high density of photoreceptors and enables us to focus on a particular object is called __________.]]></text>\\n    </question>\\n    <answers>\\n      <answer-correct allow-randomization=\"yes\">\\n        <answer>\\n          <text><![CDATA[fovea centralis]]></text>\\n        </answer>\\n        <explanation>\\n          <text><![CDATA[The fovea centralis is located in the center of the macula lutea region of the retina.]]></text>\\n        </explanation>\\n      </answer-correct>\\n      <answer-incorrect allow-randomization=\"yes\">\\n        <answer>\\n          <text><![CDATA[optic disc]]></text>\\n        </answer>\\n        <explanation>\\n          <text><![CDATA[The optic disc is a portion of the retina that does not contain any photoreceptors.]]></text>\\n        </explanation>\\n      </answer-incorrect>\\n      <answer-incorrect allow-randomization=\"yes\">\\n        <answer>\\n          <text><![CDATA[lens]]></text>\\n        </answer>\\n        <explanation>\\n          <text><![CDATA[The lens is a separate structure, not part of the retina.]]></text>\\n        </explanation>\\n      </answer-incorrect>\\n      <answer-incorrect allow-randomization=\"yes\">\\n        <answer>\\n          <text><![CDATA[ora serrata]]></text>\\n        </answer>\\n        <explanation>\\n          <text><![CDATA[The ora serrata is the boundary between anterior retina and the posterior edge of the ciliary body.]]></text>\\n        </explanation>\\n      </answer-incorrect>\\n    </answers>\\n  </mc-problem>\\n</cwml>\\n<?xml version=\"1.0\" ?>\\n<!DOCTYPE cwml>\\n<cwml version=\"1.5\" xml:base=\"http://www.pearsoned.com/2000/wps\" xml:lang=\"en-US\" xmlns=\"http://www.pearsoned.com/2004/xmlns/cwml/1.5\" xmlns:xlink=\"http://www.w3.org/1999/xlink\">\\n  <mc-problem>\\n    \\n    <question>\\n      <text><![CDATA[While viewing a colorful painting in a museum, you will mostly use your __________.]]></text>\\n    </question>\\n    <answers>\\n      <answer-correct allow-randomization=\"yes\">\\n        <answer>\\n          <text><![CDATA[cones]]></text>\\n        </answer>\\n        <explanation>\\n          <text><![CDATA[Cones can detect color, because they contain the pigment photopsin, which responds to wavelengths we perceive as either blue, green, or red.]]></text>\\n        </explanation>\\n      </answer-correct>\\n      <answer-incorrect allow-randomization=\"yes\">\\n        <answer>\\n          <text><![CDATA[rods]]></text>\\n        </answer>\\n        <explanation>\\n          <text><![CDATA[Rods cannot detect color, but they are very sensitive and capable of responding in less intense light.]]></text>\\n        </explanation>\\n      </answer-incorrect>\\n      <answer-incorrect allow-randomization=\"yes\">\\n        <answer>\\n          <text><![CDATA[rhodopsin]]></text>\\n        </answer>\\n        <explanation>\\n          <text><![CDATA[The pigment rhodopsin does not distinguish between different wavelengths of visible light and therefore cannot detect color.]]></text>\\n        </explanation>\\n      </answer-incorrect>\\n      <answer-incorrect allow-randomization=\"yes\">\\n        <answer>\\n          <text><![CDATA[pigmented epithelium ]]></text>\\n        </answer>\\n        <explanation>\\n          <text><![CDATA[The outer pigmented layer of the retina does not contain photoreceptors.]]></text>\\n        </explanation>\\n      </answer-incorrect>\\n    </answers>\\n  </mc-problem>\\n</cwml>\\n<?xml version=\"1.0\" ?>\\n<!DOCTYPE cwml>\\n<cwml version=\"1.5\" xml:base=\"http://www.pearsoned.com/2000/wps\" xml:lang=\"en-US\" xmlns=\"http://www.pearsoned.com/2004/xmlns/cwml/1.5\" xmlns:xlink=\"http://www.w3.org/1999/xlink\">\\n  <mc-problem>\\n    \\n    <question>\\n      <text><![CDATA[Which of the following statements correctly describes transduction in photoreceptors when light stimulates them?]]></text>\\n    </question>\\n    <answers>\\n      <answer-correct allow-randomization=\"yes\">\\n        <answer>\\n          <text><![CDATA[Photoreceptor cells hyperpolarize and stop inhibiting bipolar cells.]]></text>\\n        </answer>\\n        <explanation>\\n          <text><![CDATA[The bipolar cells are freed from inhibition and\\ndepolarize and stimulate the retinal ganglion cells.]]></text>\\n        </explanation>\\n      </answer-correct>\\n      <answer-incorrect allow-randomization=\"yes\">\\n        <answer>\\n          <text><![CDATA[Photoreceptors depolarize and stimulate bipolar cells.]]></text>\\n        </answer>\\n        <explanation>\\n          <text><![CDATA[Photoreceptors do not stimulate bipolar cells in the presence of light. ]]></text>\\n        </explanation>\\n      </answer-incorrect>\\n      <answer-incorrect allow-randomization=\"yes\">\\n        <answer>\\n          <text><![CDATA[Photoreceptors depolarize and inhibit bipolar cells.]]></text>\\n        </answer>\\n        <explanation>\\n          <text><![CDATA[This is true about photoreceptors in the dark, but not true when they are stimulated by light.]]></text>\\n        </explanation>\\n      </answer-incorrect>\\n      <answer-incorrect allow-randomization=\"yes\">\\n        <answer>\\n          <text><![CDATA[Photoreceptors hyperpolarize and inhibit bipolar cells.]]></text>\\n        </answer>\\n        <explanation>\\n          <text><![CDATA[When photoreceptors hyperpolarize, they do not inhibit bipolar cells.]]></text>\\n        </explanation>\\n      </answer-incorrect>\\n    </answers>\\n  </mc-problem>\\n</cwml>\\n<?xml version=\"1.0\" ?>\\n<!DOCTYPE cwml>\\n<cwml version=\"1.5\" xml:base=\"http://www.pearsoned.com/2000/wps\" xml:lang=\"en-US\" xmlns=\"http://www.pearsoned.com/2004/xmlns/cwml/1.5\" xmlns:xlink=\"http://www.w3.org/1999/xlink\">\\n  <mc-problem>\\n    \\n    <question>\\n      <text><![CDATA[Which of the following is NOT one of the auditory ossicles? ]]></text>\\n    </question>\\n    <answers>\\n      <answer-correct allow-randomization=\"yes\">\\n        <answer>\\n          <text><![CDATA[stapedius]]></text>\\n        </answer>\\n        <explanation>\\n          <text><![CDATA[The stapedius is a muscle that reduces movement of the ossicles as a unit.]]></text>\\n        </explanation>\\n      </answer-correct>\\n      <answer-incorrect allow-randomization=\"yes\">\\n        <answer>\\n          <text><![CDATA[malleus]]></text>\\n        </answer>\\n        <explanation>\\n          <text><![CDATA[The malleus is the hammer-shaped auditory ossicle.]]></text>\\n        </explanation>\\n      </answer-incorrect>\\n      <answer-incorrect allow-randomization=\"yes\">\\n        <answer>\\n          <text><![CDATA[incus]]></text>\\n        </answer>\\n        <explanation>\\n          <text><![CDATA[The incus is the anvil-shaped auditory ossicle. ]]></text>\\n        </explanation>\\n      </answer-incorrect>\\n      <answer-incorrect allow-randomization=\"yes\">\\n        <answer>\\n          <text><![CDATA[stapes]]></text>\\n        </answer>\\n        <explanation>\\n          <text><![CDATA[The stapes is the stirrup-shaped auditory ossicle.]]></text>\\n        </explanation>\\n      </answer-incorrect>\\n    </answers>\\n  </mc-problem>\\n</cwml>\\n<?xml version=\"1.0\" ?>\\n<!DOCTYPE cwml>\\n<cwml version=\"1.5\" xml:base=\"http://www.pearsoned.com/2000/wps\" xml:lang=\"en-US\" xmlns=\"http://www.pearsoned.com/2004/xmlns/cwml/1.5\" xmlns:xlink=\"http://www.w3.org/1999/xlink\">\\n  <mc-problem>\\n    \\n    <question>\\n      <text><![CDATA[Ceruminous glands secrete __________.]]></text>\\n    </question>\\n    <answers>\\n      <answer-correct allow-randomization=\"yes\">\\n        <answer>\\n          <text><![CDATA[ear wax]]></text>\\n        </answer>\\n        <explanation>\\n          <text><![CDATA[Ear wax protects the auditory canal from microbes and small insects.]]></text>\\n        </explanation>\\n      </answer-correct>\\n      <answer-incorrect allow-randomization=\"yes\">\\n        <answer>\\n          <text><![CDATA[tears]]></text>\\n        </answer>\\n        <explanation>\\n          <text><![CDATA[Tears are secreted by the lacrimal glands, not the ceruminous glands.]]></text>\\n        </explanation>\\n      </answer-incorrect>\\n      <answer-incorrect allow-randomization=\"yes\">\\n        <answer>\\n          <text><![CDATA[mucus]]></text>\\n        </answer>\\n        <explanation>\\n          <text><![CDATA[Mucus is secreted by mucous glands and specialized cells.]]></text>\\n        </explanation>\\n      </answer-incorrect>\\n      <answer-incorrect allow-randomization=\"yes\">\\n        <answer>\\n          <text><![CDATA[saliva]]></text>\\n        </answer>\\n        <explanation>\\n          <text><![CDATA[Saliva is secreted by salivary glands, not ceruminous glands.]]></text>\\n        </explanation>\\n      </answer-incorrect>\\n    </answers>\\n  </mc-problem>\\n</cwml>\\n<?xml version=\"1.0\" ?>\\n<!DOCTYPE cwml>\\n<cwml version=\"1.5\" xml:base=\"http://www.pearsoned.com/2000/wps\" xml:lang=\"en-US\" xmlns=\"http://www.pearsoned.com/2004/xmlns/cwml/1.5\" xmlns:xlink=\"http://www.w3.org/1999/xlink\">\\n  <mc-problem>\\n    \\n    <question>\\n      <text><![CDATA[Which of the following structures of the inner ear is/are filled with perilymph?]]></text>\\n    </question>\\n    <answers>\\n      <answer-correct allow-randomization=\"yes\">\\n        <answer>\\n          <text><![CDATA[scala vestibuli]]></text>\\n        </answer>\\n        <explanation>\\n          <text><![CDATA[The scala vestibuli is superior to the cochlear duct and continuous with the vestibule near the oval window.]]></text>\\n        </explanation>\\n      </answer-correct>\\n      <answer-incorrect allow-randomization=\"yes\">\\n        <answer>\\n          <text><![CDATA[tympanic membrane]]></text>\\n        </answer>\\n        <explanation>\\n          <text><![CDATA[The tympanic membrane is not a structure of the inner ear; it separates the outer ear from the middle ear.]]></text>\\n        </explanation>\\n      </answer-incorrect>\\n      <answer-incorrect allow-randomization=\"yes\">\\n        <answer>\\n          <text><![CDATA[cochlear duct]]></text>\\n        </answer>\\n        <explanation>\\n          <text><![CDATA[The cochlear duct, also known as the scala media, is filled with endolymph.]]></text>\\n        </explanation>\\n      </answer-incorrect>\\n      <answer-incorrect allow-randomization=\"yes\">\\n        <answer>\\n          <text><![CDATA[semicircular ducts]]></text>\\n        </answer>\\n        <explanation>\\n          <text><![CDATA[The semicircular ducts contain endolymph.]]></text>\\n        </explanation>\\n      </answer-incorrect>\\n    </answers>\\n  </mc-problem>\\n</cwml>\\n<?xml version=\"1.0\" ?>\\n<!DOCTYPE cwml>\\n<cwml version=\"1.5\" xml:base=\"http://www.pearsoned.com/2000/wps\" xml:lang=\"en-US\" xmlns=\"http://www.pearsoned.com/2004/xmlns/cwml/1.5\" xmlns:xlink=\"http://www.w3.org/1999/xlink\">\\n  <mc-problem>\\n    \\n    <question>\\n      <text><![CDATA[Vibrations of the auditory ossicles are transmitted to the cochlea via the __________.]]></text>\\n    </question>\\n    <answers>\\n      <answer-correct allow-randomization=\"yes\">\\n        <answer>\\n          <text><![CDATA[oval window]]></text>\\n        </answer>\\n        <explanation>\\n          <text><![CDATA[The oval window vibrates, causing the liquid in the inner ear to vibrate.]]></text>\\n        </explanation>\\n      </answer-correct>\\n      <answer-incorrect allow-randomization=\"yes\">\\n        <answer>\\n          <text><![CDATA[tympanic membrane]]></text>\\n        </answer>\\n        <explanation>\\n          <text><![CDATA[The tympanic membrane transmits vibrations to the auditory ossicles. ]]></text>\\n        </explanation>\\n      </answer-incorrect>\\n      <answer-incorrect allow-randomization=\"yes\">\\n        <answer>\\n          <text><![CDATA[round window]]></text>\\n        </answer>\\n        <explanation>\\n          <text><![CDATA[The round window is located at the end of the scala tympani and allows the fluid in the cochlea to be displaced, because it bulges out into the middle ear.]]></text>\\n        </explanation>\\n      </answer-incorrect>\\n      <answer-incorrect allow-randomization=\"yes\">\\n        <answer>\\n          <text><![CDATA[auricle]]></text>\\n        </answer>\\n        <explanation>\\n          <text><![CDATA[The auricle is the visible part of the outer ear that funnels sound waves into the external auditory canal.]]></text>\\n        </explanation>\\n      </answer-incorrect>\\n    </answers>\\n  </mc-problem>\\n</cwml>\\n<?xml version=\"1.0\" ?>\\n<!DOCTYPE cwml>\\n<cwml version=\"1.5\" xml:base=\"http://www.pearsoned.com/2000/wps\" xml:lang=\"en-US\" xmlns=\"http://www.pearsoned.com/2004/xmlns/cwml/1.5\" xmlns:xlink=\"http://www.w3.org/1999/xlink\">\\n  <mc-problem>\\n    \\n    <question>\\n      <text><![CDATA[The loud sound of a police siren will cause __________.]]></text>\\n    </question>\\n    <answers>\\n      <answer-correct allow-randomization=\"yes\">\\n        <answer>\\n          <text><![CDATA[strong vibrations of the endolymph and basilar membrane at the base of the cochlea]]></text>\\n        </answer>\\n        <explanation>\\n          <text><![CDATA[Pressure waves from high-frequency sounds travel only a short distance into the cochlea and cause the basilar membrane to vibrate where\\nit is narrow and stiff.]]></text>\\n        </explanation>\\n      </answer-correct>\\n      <answer-incorrect allow-randomization=\"yes\">\\n        <answer>\\n          <text><![CDATA[weak vibrations of the endolymph and basilar membrane at the base of the cochlea]]></text>\\n        </answer>\\n        <explanation>\\n          <text><![CDATA[ Weak vibrations are produced by quiet sounds.]]></text>\\n        </explanation>\\n      </answer-incorrect>\\n      <answer-incorrect allow-randomization=\"yes\">\\n        <answer>\\n          <text><![CDATA[strong vibrations of the endolymph and basilar membrane farther up the cochlea ]]></text>\\n        </answer>\\n        <explanation>\\n          <text><![CDATA[Vibrations that travel farther up the cochlea to where it is wider and more flexible are those produced by low-pitched sounds.]]></text>\\n        </explanation>\\n      </answer-incorrect>\\n      <answer-incorrect allow-randomization=\"yes\">\\n        <answer>\\n          <text><![CDATA[weak vibrations of the endolymph and basilar membrane farther up the cochlea]]></text>\\n        </answer>\\n        <explanation>\\n          <text><![CDATA[Vibrations that travel farther up the cochlea to where it is wider and more flexible are those produced by low-pitched sounds.]]></text>\\n        </explanation>\\n      </answer-incorrect>\\n    </answers>\\n  </mc-problem>\\n</cwml>\\n<?xml version=\"1.0\" ?>\\n<!DOCTYPE cwml>\\n<cwml version=\"1.5\" xml:base=\"http://www.pearsoned.com/2000/wps\" xml:lang=\"en-US\" xmlns=\"http://www.pearsoned.com/2004/xmlns/cwml/1.5\" xmlns:xlink=\"http://www.w3.org/1999/xlink\">\\n  <mc-problem>\\n    \\n    <question>\\n      <text><![CDATA[When stereocilia of the hair cells of the maculae bend towards the kinocilium, __________.]]></text>\\n    </question>\\n    <answers>\\n      <answer-correct allow-randomization=\"yes\">\\n        <answer>\\n          <text><![CDATA[stimulation of the vestibular nerve increases]]></text>\\n        </answer>\\n        <explanation>\\n          <text><![CDATA[As stereocilia bend toward the kinocilium, the hair\\ncells depolarize and release more glutamate, stimulating the neurons of the vestibular nerve.]]></text>\\n        </explanation>\\n      </answer-correct>\\n      <answer-incorrect allow-randomization=\"yes\">\\n        <answer>\\n          <text><![CDATA[stimulation of the vestibular nerve decreases]]></text>\\n        </answer>\\n        <explanation>\\n          <text><![CDATA[This will be the case if stereocilia bend away from the kinocilium.]]></text>\\n        </explanation>\\n      </answer-incorrect>\\n      <answer-incorrect allow-randomization=\"yes\">\\n        <answer>\\n          <text><![CDATA[stimulation of the olfactory nerve increases]]></text>\\n        </answer>\\n        <explanation>\\n          <text><![CDATA[The hair cells of the maculae do not stimulate the olfactory nerve.]]></text>\\n        </explanation>\\n      </answer-incorrect>\\n      <answer-incorrect allow-randomization=\"yes\">\\n        <answer>\\n          <text><![CDATA[stimulation of the olfactory nerve decreases]]></text>\\n        </answer>\\n        <explanation>\\n          <text><![CDATA[The hair cells of the maculae do not stimulate the olfactory nerve.]]></text>\\n        </explanation>\\n      </answer-incorrect>\\n    </answers>\\n  </mc-problem>\\n</cwml>\\n<?xml version=\"1.0\" ?>\\n<!DOCTYPE cwml>\\n<cwml version=\"1.5\" xml:base=\"http://www.pearsoned.com/2000/wps\" xml:lang=\"en-US\" xmlns=\"http://www.pearsoned.com/2004/xmlns/cwml/1.5\" xmlns:xlink=\"http://www.w3.org/1999/xlink\">\\n  <mc-problem>\\n    \\n    <question>\\n      <text><![CDATA[Which of the following special senses is NOT processed by the thalamus?]]></text>\\n    </question>\\n    <answers>\\n      <answer-correct allow-randomization=\"yes\">\\n        <answer>\\n          <text><![CDATA[olfaction]]></text>\\n        </answer>\\n        <explanation>\\n          <text><![CDATA[The olfactory tract carries sensory information to the temporal lobe.]]></text>\\n        </explanation>\\n      </answer-correct>\\n      <answer-incorrect allow-randomization=\"yes\">\\n        <answer>\\n          <text><![CDATA[hearing]]></text>\\n        </answer>\\n        <explanation>\\n          <text><![CDATA[Hearing is processed in the thalamus.]]></text>\\n        </explanation>\\n      </answer-incorrect>\\n      <answer-incorrect allow-randomization=\"yes\">\\n        <answer>\\n          <text><![CDATA[vision]]></text>\\n        </answer>\\n        <explanation>\\n          <text><![CDATA[Vision is processed in the thalamus.]]></text>\\n        </explanation>\\n      </answer-incorrect>\\n      <answer-incorrect allow-randomization=\"yes\">\\n        <answer>\\n          <text><![CDATA[taste]]></text>\\n        </answer>\\n        <explanation>\\n          <text><![CDATA[Taste is processed in the thalamus.]]></text>\\n        </explanation>\\n      </answer-incorrect>\\n    </answers>\\n  </mc-problem>\\n</cwml>\\n'"
      ]
     },
     "execution_count": 127,
     "metadata": {},
     "output_type": "execute_result"
    }
   ],
   "source": [
    "# doc15 = xet.parse('15.xml')\n",
    "\n",
    "f = open(\"15.xml\", \"r\")\n",
    "f.read()"
   ]
  },
  {
   "cell_type": "code",
   "execution_count": null,
   "metadata": {},
   "outputs": [],
   "source": []
  }
 ],
 "metadata": {
  "kernelspec": {
   "display_name": "Python 3",
   "language": "python",
   "name": "python3"
  },
  "language_info": {
   "codemirror_mode": {
    "name": "ipython",
    "version": 3
   },
   "file_extension": ".py",
   "mimetype": "text/x-python",
   "name": "python",
   "nbconvert_exporter": "python",
   "pygments_lexer": "ipython3",
   "version": "3.8.3"
  }
 },
 "nbformat": 4,
 "nbformat_minor": 4
}
